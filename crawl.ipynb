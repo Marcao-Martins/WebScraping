{
 "cells": [
  {
   "cell_type": "code",
   "execution_count": 4,
   "metadata": {},
   "outputs": [
    {
     "data": {
      "text/plain": [
       "'Sample Web Page'"
      ]
     },
     "execution_count": 4,
     "metadata": {},
     "output_type": "execute_result"
    }
   ],
   "source": [
    "from bs4 import BeautifulSoup\n",
    "import requests\n",
    "\n",
    "URL = \"http://www.columbia.edu/~fdc/sample.html\"\n",
    "response = requests.get(URL)\n",
    "page = BeautifulSoup(response.text, 'html.parser')\n",
    "page.title.string"
   ]
  },
  {
   "cell_type": "code",
   "execution_count": 5,
   "metadata": {},
   "outputs": [
    {
     "data": {
      "text/plain": [
       "[<h3 id=\"contents\">CONTENTS</h3>,\n",
       " <h3 id=\"basics\">1. Creating a Web Page</h3>,\n",
       " <h3 id=\"syntax\">2. HTML Syntax</h3>,\n",
       " <h3 id=\"chars\">3. Special Characters</h3>,\n",
       " <h3 id=\"convert\">4. Converting Plain Text to HTML</h3>,\n",
       " <h3 id=\"effects\">5. Effects</h3>,\n",
       " <h3 id=\"lists\">6. Lists</h3>,\n",
       " <h3 id=\"links\">7. Links</h3>,\n",
       " <h3 id=\"tables\">8. Tables</h3>,\n",
       " <h3 id=\"viewing\">9. Viewing Your Web Page</h3>,\n",
       " <h3 id=\"install\">10. Installing Your Web Page on the Internet</h3>,\n",
       " <h3 id=\"more\">11. Where to go from here</h3>,\n",
       " <h3 id=\"fluid\">12. Postscript: Cell Phones</h3>]"
      ]
     },
     "execution_count": 5,
     "metadata": {},
     "output_type": "execute_result"
    }
   ],
   "source": [
    "page.find_all('h3')"
   ]
  },
  {
   "cell_type": "code",
   "execution_count": 2,
   "metadata": {},
   "outputs": [
    {
     "name": "stdout",
     "output_type": "stream",
     "text": [
      "config.ini\n",
      "error_log.txt\n",
      "cron.py\n",
      "prepare_task_step1.py\n",
      "prepare_task_step6.py\n",
      "timing.py\n",
      "codigo.ipynb\n",
      "crawl.ipynb\n",
      "sla.py\n",
      "prepare_task_Step3.py\n",
      "vdoc.pub_python-automation-cookbook-75-python-automation-ideas-for-web-scraping-data-wrangling-and-processing-excel-reports-emails-and-more-2nd-edition.pdf\n",
      "result.log\n",
      "email_task.py\n",
      "HEAD\n",
      "COMMIT_EDITMSG\n",
      "FETCH_HEAD\n",
      "packed-refs\n",
      "description\n",
      "config\n",
      "index\n",
      "push-to-checkout.sample\n",
      "pre-applypatch.sample\n",
      "pre-merge-commit.sample\n",
      "fsmonitor-watchman.sample\n",
      "commit-msg.sample\n",
      "post-update.sample\n",
      "update.sample\n",
      "prepare-commit-msg.sample\n",
      "pre-receive.sample\n",
      "pre-push.sample\n",
      "pre-commit.sample\n",
      "applypatch-msg.sample\n",
      "pre-rebase.sample\n",
      "exclude\n",
      "refs\n",
      "HEAD\n",
      "main\n",
      "HEAD\n",
      "main\n",
      "main\n",
      "HEAD\n",
      "main\n",
      "27c961e05e2be8fcb643ddc1a74c65e1b0641d\n",
      "42c8e08e0a6ccb3a954757cfce8a02c720ea93\n",
      "7c723e33a29059d928b5d5b79a64aef4c14295\n",
      "c164a5c0533b4a25e6bc28472b0602d1ae5bf1\n",
      "32d5b69cb1c9bb058847e0dd5cd6b171145d11\n",
      "1caa5777e02fa4b06f29b824c47986ef3b5540\n",
      "2fea562990ef9c07353f511f859a943e657353\n",
      "b55cb6af03534ec92ace842796738a55f6fc39\n",
      "pack-6a8c425cc7bcbcc809bf958267eac28ad22248b2.idx\n",
      "pack-529d46f2aefe9d5f599b93f0954ef314ee715b17.idx\n",
      "pack-6a8c425cc7bcbcc809bf958267eac28ad22248b2.rev\n",
      "pack-6a8c425cc7bcbcc809bf958267eac28ad22248b2.pack\n",
      "pack-529d46f2aefe9d5f599b93f0954ef314ee715b17.pack\n",
      "a71bae90ce181efea475620026d2327e0fba06\n",
      "58fba9cb090716a0e3f663e40470d4006947b3\n",
      "c937a2a7c33b34fd0d19de53c967aecd61236d\n",
      "6beff6e15cec184899c77bf753d1b83283ed44\n",
      "7fec90471fa24c6cc59ac826f18d3a501708f3\n",
      "commit-graph\n",
      "packs\n",
      "b2400488169f2eef1f8d98d7994706f7cdd20b\n",
      "81a58e70483f920ce4049afaa0e755d8b0b83d\n",
      "28ccf0dae6369a1b6bea5982c2cf00150a0a4c\n",
      "8f385f37f4fce183b9659ec878c5e7f96558ec\n"
     ]
    }
   ],
   "source": [
    "import os\n",
    "for root, dirs, files in os.walk('.'):\n",
    "    for file in files:\n",
    "        print(file)"
   ]
  },
  {
   "cell_type": "code",
   "execution_count": 1,
   "metadata": {},
   "outputs": [
    {
     "name": "stdout",
     "output_type": "stream",
     "text": [
      "2023-11-01 19:14:45,730 - ERROR - Failed to send email: division by zero\n",
      "\n",
      "2023-11-01 19:15:06,918 - ERROR - Failed to send email: division by zero\n",
      "\n",
      "2023-11-01 19:15:12,364 - ERROR - Failed to send email: (535, b'5.7.8 Username and Password not accepted. Learn more at\\n5.7.8  https://support.google.com/mail/?p=BadCredentials mn15-20020a0562145ecf00b00656329bb3b1sm1733068qvb.10 - gsmtp')\n",
      "\n",
      "19:16:43 - ERROR - Failed to send email: (535, b'5.7.8 Username and Password not accepted. Learn more at\\n5.7.8  https://support.google.com/mail/?p=BadCredentials n11-20020a05620a222b00b007743360b3fasm1698535qkh.34 - gsmtp')\n",
      "\n",
      "2023-17-11/01/23 19:17:33 - ERROR - Failed to send email: (535, b'5.7.8 Username and Password not accepted. Learn more at\\n5.7.8  https://support.google.com/mail/?p=BadCredentials mg2-20020a056214560200b0065afcf19e23sm1708449qvb.62 - gsmtp')\n",
      "\n",
      "11/01/23 19:18:11 - ERROR - Failed to send email: (535, b'5.7.8 Username and Password not accepted. Learn more at\\n5.7.8  https://support.google.com/mail/?p=BadCredentials nf4-20020a0562143b8400b00655d6d31470sm1734244qvb.43 - gsmtp')\n",
      "\n",
      "11/01/23 19:19:28 - ERROR - Failed to send email: (535, b'5.7.8 Username and Password not accepted. Learn more at\\n5.7.8  https://support.google.com/mail/?p=BadCredentials fb17-20020ad44f11000000b0064f43efc844sm1734170qvb.32 - gsmtp')\n",
      "\n",
      "11/01/23 19:26:42 - ERROR - Failed to send email: (534, b'5.7.9 Application-specific password required. Learn more at\\n5.7.9  https://support.google.com/mail/?p=InvalidSecondFactor g7-20020a0cd7c7000000b00641899958efsm1725455qvj.130 - gsmtp')\n",
      "\n",
      "11/01/23 19:27:15 - ERROR - Failed to send email: [Errno -2] Name or service not known\n",
      "\n"
     ]
    }
   ],
   "source": [
    "with open('/workspaces/WebScraping/error_log.txt') as file:\n",
    "    for line in file:\n",
    "        print(line)"
   ]
  },
  {
   "cell_type": "code",
   "execution_count": 2,
   "metadata": {},
   "outputs": [
    {
     "name": "stdout",
     "output_type": "stream",
     "text": [
      "2023-11-01 19:14:45,730 - ERROR - Failed to send email: division by zero\n",
      "\n",
      "2023-11-01 19:15:06,918 - ERROR - Failed to send email: division by zero\n",
      "\n",
      "2023-11-01 19:15:12,364 - ERROR - Failed to send email: (535, b'5.7.8 Username and Password not accepted. Learn more at\\n5.7.8  https://support.google.com/mail/?p=BadCredentials mn15-20020a0562145ecf00b00656329bb3b1sm1733068qvb.10 - gsmtp')\n",
      "\n",
      "19:16:43 - ERROR - Failed to send email: (535, b'5.7.8 Username and Password not accepted. Learn more at\\n5.7.8  https://support.google.com/mail/?p=BadCredentials n11-20020a05620a222b00b007743360b3fasm1698535qkh.34 - gsmtp')\n",
      "\n",
      "2023-17-11/01/23 19:17:33 - ERROR - Failed to send email: (535, b'5.7.8 Username and Password not accepted. Learn more at\\n5.7.8  https://support.google.com/mail/?p=BadCredentials mg2-20020a056214560200b0065afcf19e23sm1708449qvb.62 - gsmtp')\n",
      "\n",
      "11/01/23 19:18:11 - ERROR - Failed to send email: (535, b'5.7.8 Username and Password not accepted. Learn more at\\n5.7.8  https://support.google.com/mail/?p=BadCredentials nf4-20020a0562143b8400b00655d6d31470sm1734244qvb.43 - gsmtp')\n",
      "\n",
      "11/01/23 19:19:28 - ERROR - Failed to send email: (535, b'5.7.8 Username and Password not accepted. Learn more at\\n5.7.8  https://support.google.com/mail/?p=BadCredentials fb17-20020ad44f11000000b0064f43efc844sm1734170qvb.32 - gsmtp')\n",
      "\n",
      "11/01/23 19:26:42 - ERROR - Failed to send email: (534, b'5.7.9 Application-specific password required. Learn more at\\n5.7.9  https://support.google.com/mail/?p=InvalidSecondFactor g7-20020a0cd7c7000000b00641899958efsm1725455qvj.130 - gsmtp')\n",
      "\n",
      "11/01/23 19:27:15 - ERROR - Failed to send email: [Errno -2] Name or service not known\n",
      "\n"
     ]
    }
   ],
   "source": [
    "with open('/workspaces/WebScraping/error_log.txt') as file:\n",
    "    for line in file:\n",
    "        print(line)"
   ]
  },
  {
   "cell_type": "code",
   "execution_count": 20,
   "metadata": {},
   "outputs": [
    {
     "data": {
      "text/plain": [
       "{'/CreationDate': \"D:20200527165641+05'30'\",\n",
       " '/Creator': 'Adobe InDesign 15.0 (Windows)',\n",
       " '/ModDate': \"D:20200527171629+05'30'\",\n",
       " '/Producer': 'Adobe PDF Library 15.0',\n",
       " '/Trapped': '/False'}"
      ]
     },
     "execution_count": 20,
     "metadata": {},
     "output_type": "execute_result"
    }
   ],
   "source": [
    "from PyPDF2 import PdfReader\n",
    "file = open('/workspaces/WebScraping/vdoc.pub_python-automation-cookbook-75-python-automation-ideas-for-web-scraping-data-wrangling-and-processing-excel-reports-emails-and-more-2nd-edition.pdf','rb')\n",
    "document = PdfReader(file)\n",
    "len(document.pages)\n",
    "document.metadata"
   ]
  }
 ],
 "metadata": {
  "kernelspec": {
   "display_name": "Python 3",
   "language": "python",
   "name": "python3"
  },
  "language_info": {
   "codemirror_mode": {
    "name": "ipython",
    "version": 3
   },
   "file_extension": ".py",
   "mimetype": "text/x-python",
   "name": "python",
   "nbconvert_exporter": "python",
   "pygments_lexer": "ipython3",
   "version": "3.10.8"
  }
 },
 "nbformat": 4,
 "nbformat_minor": 2
}
